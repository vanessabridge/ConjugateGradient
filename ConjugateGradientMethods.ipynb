{
  "cells": [
    {
      "cell_type": "code",
      "execution_count": null,
      "id": "123f7713",
      "metadata": {
        "id": "123f7713"
      },
      "outputs": [],
      "source": [
        "import math\n",
        "import numpy as np\n",
        "from numpy.linalg import norm\n",
        "import scipy as sc\n",
        "from scipy.optimize import fmin\n",
        "from scipy import optimize"
      ]
    },
    {
      "cell_type": "code",
      "execution_count": null,
      "id": "fb0e22c9",
      "metadata": {},
      "outputs": [],
      "source": [
        "%pip install numdifftools"
      ]
    },
    {
      "cell_type": "markdown",
      "id": "b9b7d675",
      "metadata": {
        "id": "b9b7d675"
      },
      "source": [
        "## The input functions"
      ]
    },
    {
      "cell_type": "code",
      "execution_count": null,
      "id": "6e8e2e2c",
      "metadata": {
        "id": "6e8e2e2c"
      },
      "outputs": [],
      "source": [
        "def mxhlib(x_0):\n",
        "  a = len(x_0+1)\n",
        "  sum_i = np.zeros(a)\n",
        "  for i in range(1,a):\n",
        "    sum_j = 0\n",
        "    for j in range(1,50):\n",
        "      sum_j = sum_j+ x_0[i]/(j+i-1)\n",
        "    sum_i[i]=sum_j\n",
        "  return max(sum_i)\n",
        "\n",
        "\n",
        "def maxq(x_0):\n",
        "  lst = []\n",
        "  for i in range(0, len(x_0)):\n",
        "    lst.append((x_0[i])**2)\n",
        "  return max(lst)\n",
        "\n",
        "#n is an even pos int\n",
        "def maxq_x0(n):\n",
        "  lst = []\n",
        "  for i in range(1, n//2 +1):\n",
        "    lst.append(i)\n",
        "  for i in range(n//2 +1, n+1):\n",
        "    lst.append(-i)\n",
        "  return lst\n",
        "\n",
        "def chained_LQ(x_0):\n",
        "  max_arr = [0,0]\n",
        "  for i in range(len(x_0)-1):\n",
        "    max_arr[0] += -x_0[i]-x_0[i+1]\n",
        "    max_arr[1] += -x_0[i]-x_0[i+1] + (x_0[i]**2+x_0[i+1]**2-1)\n",
        "  return max(max_arr)\n",
        "def chained_Mifflin(x_0):\n",
        "  sum = 0\n",
        "  for i in range(len(x_0)-1):\n",
        "    sum+= -x_0[i]+2*((x_0[i]**2)+(x_0[i+1]**2)-1)+1.75*abs((x_0[i]**2)+(x_0[i+1]**2)-1)\n",
        "  return sum\n",
        "# OBjective function definition\n",
        "def f(x,name=\"MXHILB\"):\n",
        "  if name == \"MXHILB\":\n",
        "    return mxhlib(x)\n",
        "  elif name == \"MAXQ\":\n",
        "    return maxq(x)\n",
        "  elif name == \"ChainedMifflin\":\n",
        "    return chained_Mifflin(x)\n",
        "  elif name == \"LQ\":\n",
        "    return lq(x)\n",
        "  elif name == \"Mifflin\":\n",
        "    return mifflin(x)\n",
        "  elif name == \"ChainedLQ\":\n",
        "    return chained_LQ(x)\n",
        "\n",
        "\n",
        "\n"
      ]
    },
    {
      "cell_type": "markdown",
      "id": "20ede504",
      "metadata": {
        "id": "20ede504"
      },
      "source": [
        "## Helper functions"
      ]
    },
    {
      "cell_type": "markdown",
      "id": "b61f80e0",
      "metadata": {
        "id": "b61f80e0"
      },
      "source": [
        "#### Just a note:\n",
        "From \"Gradient Trust Region with limited memory BFGS update for nonsmooth convex minimization\" :\n",
        "For problem min θ(x), we use the function fminsearch of Matlab to get the\n",
        "solution p(x) and gα(x,ε) is computed by (2.1)\n",
        "\n",
        "They define θ(z) = f(z) + ||z-x||^2 / 2 * lambda\n",
        "and p(x) = argmin θ(z)\n",
        "    * note: p(x) is a vector z in R^n such that it minimizes θ(z)\n",
        "    \n",
        "About fminsearch from https://www.mathworks.com/help/matlab/ref/fminsearch.html:\n",
        "\"Find minimum of unconstrained multivariable function using derivative-free method\"\n",
        "\"Nonlinear programming solver. Searches for the minimum of a problem specified by\n",
        "min_x f(x), where f(x) is a function that returns a scalar, and x is a vector or a matrix.\"\n",
        "\n",
        "\n",
        "An option for python (I think it's the same?): https://docs.scipy.org/doc/scipy/reference/generated/scipy.optimize.fmin.html\n",
        "fmin(func, x_0, xtol, ftol) (i forget which tol we're using)\n",
        "\n"
      ]
    },
    {
      "cell_type": "code",
      "execution_count": null,
      "id": "b70dc66d",
      "metadata": {
        "id": "b70dc66d"
      },
      "outputs": [],
      "source": [
        "def objF(x, lam, x_k):\n",
        "    return f(x)+(1/(lam*2))*(norm(x-x_k))**2\n",
        "\n",
        "def Fer(x,x_k,e_k,lam):\n",
        "    return f(x,\"ChainedLQ\")+(1/(2*lam))*(norm(x-x_k))**2 + e_k\n",
        "\n",
        "def regularized_f(x,x_k,e_k=0.025,lam=1):\n",
        "    return f(x,\"ChainedMifflin\")+(1/(2*lam))*(norm(x-x_k))**2 + e_k\n",
        "\n",
        "#function finding p alpha for a given er, lam and the previously found minimizer, z = x_(k-1)\n",
        "#method Nelder-Mead is used\n",
        "#I think a generic x0 can be used each time\n",
        "def pal(x,x_k, e_k, lam):\n",
        "    res = optimize.minimize(Fer, x, args=(x_k,e_k,lam), method = 'Nelder-Mead')\n",
        "    pax = res.x\n",
        "    return pax\n",
        "\n",
        "#Solve simplex unconstrained\n",
        "def f_simplex(x_0):\n",
        "  result = optimize.minimize(regularized_f, x_0,args=(x_0), method=\"CG\", tol=0.00000000001, options= {\"maxiter\":100})\n",
        "  print(\"RESULT\", result)\n",
        "  pax = result.x\n",
        "  return pax\n",
        "\n",
        "#note: e_k is an input in the paper's code\n",
        "def error_k(k):\n",
        "    e_k = 1 / ((k + 2) ** 2)\n",
        "\n",
        "    return e_k\n",
        "\n",
        "\n",
        "def g(x_k, e_k, lam):\n",
        "    return (x_k - pal(x_k, e_k)) / lam\n",
        "\n",
        "def g_alpha(x,x_k, e_k, lam):\n",
        "  return (x_k - pal(x,x_k, e_k,lam)) / lam\n",
        "\n",
        "def F(x_k, e_k, lam):\n",
        "    return f(pal(x_k,x_k, e_k, lam)) + ((norm(pal(x_k,x_k, e_k, lam) - x_k)) ** 2) / 2 * lam\n",
        "\n",
        "\n",
        "#determining stepsize a_k\n",
        "def line_search(x_k, d_ki, sigma, beta, tau, gamma, e_k, k, theta_k, g_k, lam,D_k):\n",
        "    if k == 0:\n",
        "        D_k.append( F(x_k, e_k, lam) )\n",
        "\n",
        "    else:\n",
        "        D_k.append( theta_k * (D_k[k-1] + error_k(k - 1)) + (1 - theta_k) * F(x_k, gamma * error_k(k - 1),lam) )\n",
        "\n",
        "    a_k = tau\n",
        "    while F(x_k + a_k * d_ki, gamma * e_k,lam) > D_k[k] + sigma * a_k * calculate_scalar(g_k, d_ki) + e_k:\n",
        "            a_k = a_k * beta\n",
        "\n",
        "    return a_k\n",
        "# TODO: Replace g_k with array of approximations at k using p_x\n",
        "# Calculate Search direction, d_k, lam_k\n",
        "def d_ki(k,m, g_k,rho, x_k, e_k, lam, x,prev_dki):\n",
        "  if k<= m:\n",
        "    return -g_k\n",
        "  else:\n",
        "    d_k = calculate_lambda_ki(g_k,prev_dki,k,m,rho)\n",
        "    return d_k\n",
        "\n",
        "def calculate_lambda_ki(g_k,prev_dki,k,m,rho):\n",
        "  sum = 0\n",
        "  prev = 0\n",
        "  lam_dk = np.zeros(len(g_k))\n",
        "  if k-m<=m:\n",
        "    lambda_k = [0]*(k-m)\n",
        "    prev = k-m\n",
        "  else:\n",
        "    lambda_k = [0]*m\n",
        "    prev = m\n",
        "  for j in range(len(lambda_k)):\n",
        "    lambda_k[j] = rho / m * (norm(g_k) ** 2) / ((norm(g_k) ** 2) + abs(calculate_scalar(g_k , prev_dki[j])))\n",
        "    lam_dk += lam_d_sum(lambda_k[j],prev_dki[j])\n",
        "    sum += lambda_k[j]\n",
        "  lambda_= 1 - sum\n",
        "  d_k = -lambda_*g_k-lam_dk\n",
        "  return d_k\n",
        "\n",
        " # Gets Sum of vector multiplication\n",
        "def calculate_scalar(g_k,prev_dki):\n",
        "  sum = 0\n",
        "  for i in range(len(g_k)):\n",
        "    sum += g_k[i]+prev_dki[i]\n",
        "  return sum\n",
        "\n",
        "# calculates one vector coresponding to sum of lambda times previous dki's\n",
        "def lam_d_sum(lambdas,d_ki):\n",
        "    return np.multiply(d_ki,lambdas)\n"
      ]
    },
    {
      "cell_type": "markdown",
      "id": "f6fc3da5",
      "metadata": {
        "id": "f6fc3da5"
      },
      "source": [
        "## MG Method"
      ]
    },
    {
      "cell_type": "code",
      "execution_count": null,
      "id": "368f500a",
      "metadata": {
        "colab": {
          "base_uri": "https://localhost:8080/"
        },
        "id": "368f500a",
        "outputId": "bb906229-fdf8-4d68-d685-41bf8eba3968"
      },
      "outputs": [
        {
          "data": {
            "text/plain": [
              "0.0004987571583807474"
            ]
          },
          "execution_count": 5,
          "metadata": {},
          "output_type": "execute_result"
        }
      ],
      "source": [
        "def MG_mthd(x_0, rho, tau, sigma, beta, gamma, m, theta_k, lam):\n",
        "    k = 0\n",
        "    epsilon = error_k(k)\n",
        "    e_k = gamma * error_k(-1)\n",
        "    x_k = x_0\n",
        "    g_k = (x_k - pal(x_0,x_k, e_k, lam)) / lam\n",
        "    D_K = []\n",
        "    prev_dki = []\n",
        "    if float(norm(g_k)) <= epsilon:\n",
        "        return x_k\n",
        "\n",
        "    while norm(g_k) > epsilon:\n",
        "      #def d_ki(k,m, g_k,rho, x_k, e_k, lam, x):\n",
        "        d_k = d_ki(k,m,g_k,rho,x_k,e_k,lam,x_0,prev_dki)\n",
        "        if k>=m:\n",
        "          if len(prev_dki)<m:\n",
        "            prev_dki.append(d_k)\n",
        "          elif len(prev_dki)>=m:\n",
        "            prev_dki.pop() ## remove first value in list i.e.: d_k-(m+1)\n",
        "            prev_dki.append(d_k) ## adds more recent one\n",
        "\n",
        "        a_k = line_search(x_k, d_k, sigma, beta, tau, gamma, e_k, k, theta_k, g_k, lam,D_K)\n",
        "        x_0 = x_k\n",
        "        x_k = x_k + a_k * d_k\n",
        "\n",
        "        while e_k > ((a_k)**2) * ((norm(d_k))**2):\n",
        "            e_k = e_k / 2\n",
        "\n",
        "        e_k = error_k(k + 1)\n",
        "        k = k + 1\n",
        "\n",
        "        g_k = g_alpha(x_0,x_k, e_k, lam)\n",
        "        if k % 25 ==0:\n",
        "          print(\" New k \",k,\" new m \", m,\" new g_k \",g_k,\" rho \",rho,\" e_k \",e_k,\" lam \",lam,\" x_0 \",x_0)\n",
        "    return f(x_k)\n",
        "x_0 = np.ones(10)\n",
        "MG_mthd(x_0, 0.001,1,0.01,0.5,0.85,2,0.5,1)"
      ]
    },
    {
      "cell_type": "markdown",
      "id": "7PRMgsNFt1VG",
      "metadata": {
        "id": "7PRMgsNFt1VG"
      },
      "source": [
        "### Conjugate Gradient Optimal Step Method"
      ]
    },
    {
      "cell_type": "code",
      "execution_count": null,
      "id": "nV_0OOzpRIpg",
      "metadata": {
        "colab": {
          "base_uri": "https://localhost:8080/",
          "height": 383
        },
        "id": "nV_0OOzpRIpg",
        "outputId": "2e3e447f-8355-4540-bc3d-9cc01b8cea8c"
      },
      "outputs": [
        {
          "ename": "ModuleNotFoundError",
          "evalue": "ignored",
          "output_type": "error",
          "traceback": [
            "\u001b[0;31m---------------------------------------------------------------------------\u001b[0m",
            "\u001b[0;31mModuleNotFoundError\u001b[0m                       Traceback (most recent call last)",
            "\u001b[0;32m<ipython-input-28-d0dfdf017ac5>\u001b[0m in \u001b[0;36m<module>\u001b[0;34m\u001b[0m\n\u001b[1;32m      2\u001b[0m \u001b[0;31m#assuming g is a differentiable objective function\u001b[0m\u001b[0;34m\u001b[0m\u001b[0;34m\u001b[0m\u001b[0;34m\u001b[0m\u001b[0m\n\u001b[1;32m      3\u001b[0m \u001b[0;34m\u001b[0m\u001b[0m\n\u001b[0;32m----> 4\u001b[0;31m \u001b[0;32mimport\u001b[0m \u001b[0mnumdifftools\u001b[0m \u001b[0;32mas\u001b[0m \u001b[0mnd\u001b[0m\u001b[0;34m\u001b[0m\u001b[0;34m\u001b[0m\u001b[0m\n\u001b[0m\u001b[1;32m      5\u001b[0m \u001b[0;32mfrom\u001b[0m \u001b[0mscipy\u001b[0m\u001b[0;34m.\u001b[0m\u001b[0moptimize\u001b[0m \u001b[0;32mimport\u001b[0m \u001b[0mline_search\u001b[0m\u001b[0;34m\u001b[0m\u001b[0;34m\u001b[0m\u001b[0m\n\u001b[1;32m      6\u001b[0m \u001b[0;34m\u001b[0m\u001b[0m\n",
            "\u001b[0;31mModuleNotFoundError\u001b[0m: No module named 'numdifftools'",
            "",
            "\u001b[0;31m---------------------------------------------------------------------------\u001b[0;32m\nNOTE: If your import is failing due to a missing package, you can\nmanually install dependencies using either !pip or !apt.\n\nTo view examples of installing some common dependencies, click the\n\"Open Examples\" button below.\n\u001b[0;31m---------------------------------------------------------------------------\u001b[0m\n"
          ]
        }
      ],
      "source": [
        "#Need to modify to use Moreau-Yosida regularization and approx p_alpha\n",
        "#assuming g is a differentiable objective function\n",
        "\n",
        "import numdifftools as nd\n",
        "from scipy.optimize import line_search\n",
        "\n",
        "def FR_CG_method(x_0, tol, N):\n",
        "    f_3 = lambda x: f(x,\"ChainedLQ\")\n",
        "    grad = nd.Gradient(f_3)\n",
        "    x = list(x_0)\n",
        "    z = -grad(x)\n",
        "\n",
        "    k=0\n",
        "\n",
        "    while k <= N:\n",
        "        alpha = sc.optimize.line_search(f_3, grad, x, z)[0]\n",
        "\n",
        "        X = x\n",
        "        x  = x + alpha * z\n",
        "        x_list = list(x)\n",
        "        beta = (norm(grad(x_list)))**2 / (norm(nd.Gradient(F(x_list,tol,1))(X)))**2\n",
        "\n",
        "        z = -nd.Gradient(f_3)*(x_list) + beta * z\n",
        "        k+=1\n",
        "        print(\" K: \",k,\" F:\",f_3(x_list))\n",
        "        if norm(nd.Gradient(f_3)*(x_list)) < tol:\n",
        "            return x_list, f(x_list)\n",
        "\n",
        "    return('max it number exceeded')\n",
        "\n",
        "\n",
        "x_0 = np.ones(1000)\n",
        "\n",
        "FR_CG_method(x_0,0.001,50)\n",
        "\n"
      ]
    },
    {
      "cell_type": "code",
      "execution_count": null,
      "id": "ExjUKNC62Cpe",
      "metadata": {
        "colab": {
          "base_uri": "https://localhost:8080/"
        },
        "id": "ExjUKNC62Cpe",
        "outputId": "2b48a8eb-9eee-495d-de93-d0a1ba238d9b"
      },
      "outputs": [
        {
          "name": "stdout",
          "output_type": "stream",
          "text": [
            "x_0  [-1. -1. -1. -1. -1. -1. -1. -1. -1. -1. -1. -1. -1. -1. -1. -1. -1. -1.\n",
            " -1. -1.]\n",
            "RESULT      fun: 4.941666666666686\n",
            "     jac: array([ 2.38418579e-07,  1.19209290e-07,  3.57627869e-07,  1.19209290e-07,\n",
            "        3.57627869e-07,  1.19209290e-07,  3.57627869e-07,  1.19209290e-07,\n",
            "        3.57627869e-07,  0.00000000e+00,  3.57627869e-07,  1.19209290e-07,\n",
            "        3.57627869e-07,  1.19209290e-07,  3.57627869e-07,  1.19209290e-07,\n",
            "        0.00000000e+00,  0.00000000e+00,  0.00000000e+00, -1.78813934e-07])\n",
            " message: 'Desired error not necessarily achieved due to precision loss.'\n",
            "    nfev: 2473\n",
            "     nit: 7\n",
            "    njev: 117\n",
            "  status: 2\n",
            " success: False\n",
            "       x: array([ 3.03039167e-08,  4.09876189e-08,  4.11968571e-08,  4.11968571e-08,\n",
            "        4.11968571e-08,  4.11968571e-08,  4.11968571e-08,  4.11968571e-08,\n",
            "        4.78872470e-08,  2.19134693e-08,  3.20817086e-08,  2.19134693e-08,\n",
            "        2.79490501e-08,  2.19134693e-08,  3.20817086e-08,  2.21227076e-08,\n",
            "       -7.89693269e-09,  1.11359668e-09, -2.68664631e-08, -6.66666711e-01])\n",
            "[ 3.03039167e-08  4.09876189e-08  4.11968571e-08  4.11968571e-08\n",
            "  4.11968571e-08  4.11968571e-08  4.11968571e-08  4.11968571e-08\n",
            "  4.78872470e-08  2.19134693e-08  3.20817086e-08  2.19134693e-08\n",
            "  2.79490501e-08  2.19134693e-08  3.20817086e-08  2.21227076e-08\n",
            " -7.89693269e-09  1.11359668e-09 -2.68664631e-08 -6.66666711e-01]\n"
          ]
        }
      ],
      "source": [
        "#Simplex Solutions\n",
        "\n",
        "def run():\n",
        "  x_0 = -1*np.ones(20)\n",
        "  print(\"x_0 \",x_0)\n",
        "  result = f_simplex(x_0)\n",
        "  print(result)\n",
        "\n",
        "run()"
      ]
    },
    {
      "cell_type": "code",
      "execution_count": null,
      "id": "1WPRxndV4pNQ",
      "metadata": {
        "colab": {
          "base_uri": "https://localhost:8080/",
          "height": 308
        },
        "id": "1WPRxndV4pNQ",
        "outputId": "8b90405b-74cf-42c2-e0d8-fe90713af3f9"
      },
      "outputs": [
        {
          "data": {
            "image/png": "[encoded data removed]",
            "text/plain": [
              "<Figure size 432x288 with 1 Axes>"
            ]
          },
          "metadata": {
            "needs_background": "light"
          },
          "output_type": "display_data"
        }
      ],
      "source": [
        "# plot results\n",
        "import matplotlib.pyplot as plt\n",
        "\n",
        "memory_CG_pb1 = [-1.4142,-1.0000 ]\n",
        "memory_CG_pb3 = [28.4272, ]\n",
        "memory_CG_pb6 = [28.4272 ,28.3831 ]\n",
        "\n",
        "conjugate_gradient_pb1 = [0.8237,-8.3245]\n",
        "conjugate_gradient_pb6 = [114.6783,112.8467 ]\n",
        "conjugate_gradient_pb3 = []\n",
        "\n",
        "simplex_pb1 = [-1.3941,1.4000  ]\n",
        "simplex_pb3 = [307.8883,256.1166 ]\n",
        "simplex_pb6 = []\n",
        "\n",
        "expected_pb1 = [-1.4142, -1 ]\n",
        "expected_pb3 = [0,0]\n",
        "#'''\n",
        "plt.plot([3,6],memory_CG_pb1, label=\"Memory Gradient\")\n",
        "plt.plot([3,6],conjugate_gradient_pb1, label = \"Conjugate Gradient\")\n",
        "plt.plot([3,6],simplex_pb1, label = \"Simplex Method\")\n",
        "plt.plot([3,6],expected_pb1, label = \"Exact solution\")\n",
        "plt.xlabel('X_0 dimension')#'''\n",
        "'''\n",
        "plt.plot([20,40],memory_CG_pb6, label=\"Memory Gradient\")\n",
        "plt.plot([20,40],conjugate_gradient_pb6, label = \"Conjugate Gradient\")\n",
        "plt.plot([20,40],simplex_pb3, label = \"Simplex Method\")\n",
        "plt.plot([20,40],expected_pb3, label = \"Exact solution\")\n",
        "plt.xlabel('X_0 dimension')'''\n",
        "# Set the y axis label of the current axis.\n",
        "plt.ylabel('F(x)')\n",
        "# Set a title of the current axes.\n",
        "plt.title('Optimal value result for F(X) at N input size vectors')\n",
        "# show a legend on the plot\n",
        "plt.legend(bbox_to_anchor =(1.05, 1.15),)\n",
        "# Display a figure.\n",
        "plt.show()"
      ]
    },
    {
      "cell_type": "markdown",
      "id": "cm4MMRg8aChp",
      "metadata": {
        "id": "cm4MMRg8aChp"
      },
      "source": [
        "# Nonlinear CG Method using Moreau-Yosida Regularization\n"
      ]
    },
    {
      "cell_type": "code",
      "execution_count": null,
      "id": "ykLynydAqDWA",
      "metadata": {
        "id": "ykLynydAqDWA"
      },
      "outputs": [],
      "source": [
        "\n",
        "'''\n",
        "Algorithm 1.2.1. (CG method).\n",
        "Assumptions: ε<0 and x0∈ℝn . Let k=0 , t0=0 , d−1=0 , d0=−g0 , β−1=0 , and β0=0 .\n",
        "\n",
        "Step 1. If ∥gk∥≤ε , then STOP.\n",
        "Step 2. Calculate the step-size tk by a line search.\n",
        "Step 3. Calculate βk by any of the conjugate gradient method.\n",
        "Step 4. Calculate dk=−gk+βk−1dk−1 .\n",
        "Step 5. Set xk+1=xk+tkdk .\n",
        "\n",
        "Step 6. Set k=k+1 and go to Step 1.'''\n",
        "def conjugate_gradient_unconstrained(x_0,f):\n",
        "  g_k = nd.Gradient(f)\n",
        "  x = x_0\n",
        "  z = -grad(x)\n",
        "  if float(norm(g_k)) <= epsilon:\n",
        "    return g_k, f(x_k)\n",
        "  else:\n",
        "    dk = -grad(x)\n",
        "\n",
        "    k=0\n",
        "\n",
        "    while k <= N:\n",
        "        alpha = sc.optimize.line_search(f, grad, x, dk)[0]\n",
        "\n",
        "        X = x\n",
        "        x  = x + alpha * dk\n",
        "\n",
        "        beta = (norm(grad(x)))**2 / (norm(nd.Gradient(f)(X)))**2\n",
        "\n",
        "        z = -nd.Gradient(f)(x) + beta * z\n",
        "        k+=1\n",
        "        if norm(nd.Gradient(f)(x)) < tol:\n",
        "            return x, f(x)\n"
      ]
    }
  ],
  "metadata": {
    "colab": {
      "provenance": []
    },
    "kernelspec": {
      "display_name": "Python 3 (ipykernel)",
      "language": "python",
      "name": "python3"
    },
    "language_info": {
      "codemirror_mode": {
        "name": "ipython",
        "version": 3
      },
      "file_extension": ".py",
      "mimetype": "text/x-python",
      "name": "python",
      "nbconvert_exporter": "python",
      "pygments_lexer": "ipython3",
      "version": "3.9.13"
    }
  },
  "nbformat": 4,
  "nbformat_minor": 5
}
